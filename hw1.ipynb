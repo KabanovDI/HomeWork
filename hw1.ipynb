{
 "cells": [
  {
   "cell_type": "markdown",
   "id": "ec8eab6d-8545-4287-b628-f70d07a8ff25",
   "metadata": {},
   "source": [
    "# Homework"
   ]
  },
  {
   "cell_type": "markdown",
   "id": "eb03c12f-fd2b-4bcf-9d98-65ace80f8077",
   "metadata": {},
   "source": [
    "## Problem 1"
   ]
  },
  {
   "cell_type": "markdown",
   "id": "28c5e4b3-6efb-4bbd-b179-1448a2db9d07",
   "metadata": {},
   "source": [
    "Make a tuple containing natural numbers, the square of which is a multiple of 3, 4, but not a multiple of 8 and not exceeding 12345."
   ]
  },
  {
   "cell_type": "code",
   "execution_count": 42,
   "id": "088e3a19-75ca-4a61-92e1-c08c9e6b8a23",
   "metadata": {},
   "outputs": [
    {
     "name": "stdout",
     "output_type": "stream",
     "text": [
      "(6, 18, 30, 42, 54, 66, 78, 90, 102)\n"
     ]
    }
   ],
   "source": [
    "from math import sqrt\n",
    "\n",
    "# Создаю кортеж из списка с помощью генератора\n",
    "t = tuple([x for x in range(1, int(sqrt(12345)) + 1) if (x**2 % 3 == 0) and (x**2 % 4 == 0) and (x**2 % 8 != 0)])\n",
    "\n",
    "print(t)"
   ]
  },
  {
   "cell_type": "markdown",
   "id": "b5c59b6a-c74b-418c-b471-06a75cc56b1b",
   "metadata": {},
   "source": [
    "## Problem 2"
   ]
  },
  {
   "cell_type": "markdown",
   "id": "4dddcb39-936e-4c9d-861e-549f573bc388",
   "metadata": {},
   "source": [
    "\n",
    "Write a function that takes a two-dimensional array and a string as input and returns an array rotated 90 degrees counterclockwise if the string 'left' was passed, and clockwise if the string 'right' was passed.\n",
    "\n",
    "Example for input: $\\begin{bmatrix} 1 & 2 & 3 \\\\ 4 & 5 & 6 \\\\ 7 & 8 & 9 \\end{bmatrix}$.\\\n",
    "If the string 'left' is passed, the function should return $\\begin{bmatrix} 3 & 6 & 9 \\\\ 2 & 5 & 8 \\\\ 1 & 4 & 7 \\end{bmatrix}$, and if the string 'right' is passed, the function should return $\\begin{bmatrix} 7 & 4 & 1 \\\\ 8 & 5 & 2 \\\\ 9 & 6 & 3 \\end{bmatrix}$."
   ]
  },
  {
   "cell_type": "code",
   "execution_count": 30,
   "id": "dbcbbfd1-6e2b-4abb-8b60-04ab4dbc7243",
   "metadata": {},
   "outputs": [
    {
     "name": "stdout",
     "output_type": "stream",
     "text": [
      "\n",
      "left:\n",
      "[3, 6, 9]\n",
      "[2, 5, 8]\n",
      "[1, 4, 7]\n",
      "\n",
      "right:\n",
      "[7, 4, 1]\n",
      "[8, 5, 2]\n",
      "[9, 6, 3]\n"
     ]
    }
   ],
   "source": [
    "def rotate_array(array, direction):\n",
    "    \n",
    "    if direction == 'right':\n",
    "        return [list(reversed(col)) for col in zip(*array)]\n",
    "    if direction == 'left':\n",
    "        return [list(col) for col in reversed(list(zip(*array)))]\n",
    "\n",
    "# Данный список\n",
    "array = [\n",
    "    [1, 2, 3],\n",
    "    [4, 5, 6],\n",
    "    [7, 8, 9]\n",
    "]\n",
    "\n",
    "# Выводим результат\n",
    "print(\"\\nleft:\")\n",
    "rotated_left = rotate_array(array, 'left')\n",
    "for row in rotated_left:\n",
    "    print(row)\n",
    "\n",
    "print(\"\\nright:\")\n",
    "rotated_right = rotate_array(array, 'right')\n",
    "for row in rotated_right:\n",
    "    print(row)"
   ]
  },
  {
   "cell_type": "markdown",
   "id": "b5508614-7e1e-44bf-9888-3c94bb30c991",
   "metadata": {},
   "source": [
    "## Problem 3"
   ]
  },
  {
   "cell_type": "markdown",
   "id": "4b1d3970-5688-4f68-9ffb-6615af0b71c3",
   "metadata": {},
   "source": [
    "Write a function that takes a string as input and returns a dictionary containing the number of occurrences of each character in the string.\n",
    "\n",
    "Example for the string 'hello, world!': {'h': 1, 'e': 1, 'l': 3, 'o': 2, ',': 1, ' ': 1, 'w': 1, 'r': 1, 'd': 1, '!': 1}."
   ]
  },
  {
   "cell_type": "code",
   "execution_count": 25,
   "id": "7056bcd1-fafa-4b3e-82b1-1532b3752419",
   "metadata": {},
   "outputs": [
    {
     "name": "stdout",
     "output_type": "stream",
     "text": [
      "{'h': 1, 'e': 1, 'l': 3, 'o': 2, ',': 1, ' ': 1, 'w': 1, 'r': 1, 'd': 1, '!': 1}\n"
     ]
    }
   ],
   "source": [
    "def count_chars(str):\n",
    "\n",
    "    # Создаём пустой словарь\n",
    "    result = {}\n",
    "\n",
    "    # Пробегаемся по строке и заполняем словарь\n",
    "    for char in str:\n",
    "        result[char] = result.get(char, 0) + 1\n",
    "\n",
    "    return result\n",
    "\n",
    "str = 'hello, world!'\n",
    "res = count_chars(str)\n",
    "print(res)"
   ]
  },
  {
   "cell_type": "markdown",
   "id": "d4142a6e-8b51-4965-add9-e76ad0e2ac50",
   "metadata": {},
   "source": [
    "## Problem 4"
   ]
  },
  {
   "cell_type": "markdown",
   "id": "8ba7d138-3e3f-4a10-8a7b-0b0cc3ef9823",
   "metadata": {},
   "source": [
    "### Implementing a Library Management System\n",
    "\n",
    "#### Description\n",
    "\n",
    "You are required to design and implement a system for managing books and users in a library. The system should allow for the management of books (adding, deleting, searching by various criteria) and users (registration, deletion, searching), as well as tracking the history of interactions between them (issuing and returning books).\n",
    "\n",
    "#### Tasks\n",
    "\n",
    "1. **`Book` Class**:\n",
    "   - Attributes: title, author, year of publication, ISBN, number of copies.\n",
    "   - Methods: constructor, methods to get information about the book, method to change the number of copies (when issuing and returning books).\n",
    "\n",
    "2. **`User` Class**:\n",
    "   - Attributes: user name, library card number, list of borrowed books.\n",
    "   - Methods: constructor, methods for user registration, methods for adding and removing books from the borrowed list.\n",
    "\n",
    "3. **`Library` Class**:\n",
    "   - Attributes: list of books, list of users, transaction history (who, when, which book was borrowed and returned).\n",
    "   - Methods: constructor, methods for adding and deleting books and users, methods for issuing and returning books, searching for books and users by various criteria, method to display the transaction history.\n",
    "\n",
    "#### Assignment\n",
    "\n",
    "1. Implement the `Book`, `User`, and `Library` classes with the specified attributes and methods.\n",
    "2. Create several books and users, and add them to the library system.\n",
    "3. Implement scenarios for issuing books to users and their return.\n",
    "4. Display the transaction history to show how books were issued and returned.\n"
   ]
  },
  {
   "cell_type": "code",
   "execution_count": 39,
   "id": "713dd697-5d99-4e48-bbb8-b50316d860bf",
   "metadata": {},
   "outputs": [
    {
     "name": "stdout",
     "output_type": "stream",
     "text": [
      "Library created\n",
      "Book Клуб неисправимых оптимистов created\n",
      "Book Сто лет одиночества created\n",
      "User Тайлер Дерден created\n",
      "User Райан Гослинг created\n",
      "Тайлер Дерден received Клуб неисправимых оптимистов\n",
      "Райан Гослинг received Сто лет одиночества\n",
      "Тайлер Дерден returned Клуб неисправимых оптимистов\n"
     ]
    }
   ],
   "source": [
    "class Book:\n",
    "    def __init__(self, title, author, year_publ, isbn, num_cop):\n",
    "        self.title = title\n",
    "        self.author = author\n",
    "        self.year_publ = year_publ\n",
    "        self.isbn = isbn\n",
    "        self.num_cop = num_cop\n",
    "        print(f\"Book {title} created\")\n",
    "\n",
    "    def change_num_cop(self, x):\n",
    "        self.num_cop += x\n",
    "\n",
    "    def display_info(self):\n",
    "        return f\"{self.title} by {self.author} published in {self.year_publ}, ISBN - {self.isbn}, in stock {self.num_cop} copies\"\n",
    "\n",
    "class User:\n",
    "    def __init__(self, name, card):\n",
    "        self.name = name\n",
    "        self.card = card\n",
    "        self.books = []\n",
    "        print(f\"User {name} created\")\n",
    "\n",
    "    def register(self, library):\n",
    "        library.add_user(self)\n",
    "\n",
    "    def add_book(self, book):\n",
    "        self.books.append(book)\n",
    "\n",
    "    def remove_book(self, book):\n",
    "        if book in self.books:\n",
    "            self.books.remove(book)\n",
    "            return True\n",
    "        return False\n",
    "\n",
    "class Library:\n",
    "    def __init__(self):\n",
    "        self.books = []\n",
    "        self.users = []\n",
    "        self.transaction_history = []\n",
    "        print(\"Library created\")\n",
    "\n",
    "    def add_book(self, book):\n",
    "        if book in self.books:\n",
    "            self.books[index(book)].change_num_cop(1)\n",
    "        else:\n",
    "            self.books.append(book)\n",
    "\n",
    "    def del_book(self, book):\n",
    "        \n",
    "        if book in self.books:\n",
    "            self.books.remove(book)\n",
    "\n",
    "    def add_user(self, user):\n",
    "        self.users.append(user)\n",
    "\n",
    "    def del_user(self, user):\n",
    "        if user in self.users:\n",
    "            self.users.remove(user)\n",
    "\n",
    "    def issuing(self, user, book):\n",
    "        if book in self.books and book.num_cop >= 1:\n",
    "            user.add_book(book)\n",
    "            book.change_num_cop(-1)\n",
    "            self.transaction_history.append(f\"{user.name} received {book.title}\")\n",
    "            return True\n",
    "        return False\n",
    "\n",
    "    def returning(self, user, book):\n",
    "        if user.remove_book(book):\n",
    "            if book in self.books:\n",
    "                book.change_num_cop(1)\n",
    "                self.transaction_history.append(f\"{user.name} returned {book.title}\")\n",
    "            else:\n",
    "                self.add_book(book)\n",
    "                self.transaction_history.append(f\"{user.name} brought {book.title}\")\n",
    "            return True\n",
    "        return False\n",
    "\n",
    "    def find_book(self, title, author = \"\", year_publ = 0, isbn = 0):\n",
    "        resut = ()\n",
    "        for book in self.books:\n",
    "            if book.title == title:\n",
    "                if author == \"\" or book.author == author:\n",
    "                    if year_publ == 0 or book.year_publ == year_publ:\n",
    "                        if isbn == 0 or book.isbn == isbn:\n",
    "                            result.append(book)\n",
    "\n",
    "    def find_user(self, name, card = 0):\n",
    "        resut = ()\n",
    "        for user in self.users:\n",
    "            if user.name == name:\n",
    "                if card == 0 or user.card == card:\n",
    "                    result.append(user)\n",
    "    \n",
    "    def display_history(self):\n",
    "        for record in self.transaction_history:\n",
    "            print(record)\n",
    "\n",
    "library = Library()\n",
    "\n",
    "book1 = Book(\"Клуб неисправимых оптимистов\", \"Жан-Мишель Генассия\", 2009, 301056, 2)\n",
    "library.add_book(book1)\n",
    "\n",
    "book2 = Book(\"Сто лет одиночества\", \"Габриэль Гарсиа Маркес\", 1967, 301057, 1)\n",
    "library.add_book(book2)\n",
    "\n",
    "user1 = User(\"Тайлер Дерден\", 67345)\n",
    "user1.register(library)\n",
    "\n",
    "user2 = User(\"Райан Гослинг\", 90787)\n",
    "user2.register(library)\n",
    "\n",
    "library.issuing(user1, book1)\n",
    "library.issuing(user2, book2)\n",
    "library.returning(user1, book1)\n",
    "\n",
    "library.display_history()"
   ]
  },
  {
   "cell_type": "markdown",
   "id": "85e68641-ece5-4f4f-a52e-7a31ab67c363",
   "metadata": {},
   "source": [
    "## Problem 5*"
   ]
  },
  {
   "cell_type": "markdown",
   "id": "02e91447-a929-4ea5-af56-34e95777db99",
   "metadata": {},
   "source": [
    "Explain why list `b` changes after the execution of the following code:\n",
    "\n",
    "```python\n",
    "a = [1, 2, 3]\n",
    "b = a\n",
    "a[0] = 4\n",
    "print(b)\n",
    "```"
   ]
  },
  {
   "cell_type": "markdown",
   "id": "1248b512-5c41-422b-9545-0bbde891a2fa",
   "metadata": {},
   "source": [
    "> Write your answer in markdown cell after:"
   ]
  },
  {
   "cell_type": "markdown",
   "id": "d28fe854-de18-4904-9070-57567b8ea44d",
   "metadata": {},
   "source": [
    "Потому что обе переменные, a и b, указывают на один и тот же список(изменяемый тип)"
   ]
  },
  {
   "cell_type": "markdown",
   "id": "06a10034-7ca6-4e2c-b14f-f8c15e21fdb6",
   "metadata": {},
   "source": [
    "## Problem 6*"
   ]
  },
  {
   "cell_type": "markdown",
   "id": "811dabca-5536-4b24-9987-3ef798b59f68",
   "metadata": {},
   "source": [
    "Let\n",
    "$$A = \\sum_{i=1}^{10000} \\frac{1}{i^2},\\quad B=\\sum_{i=10000}^{1} \\frac{1}{i^2}.$$\n",
    "Calculate the values of $A$ and $B$ and compare them. What do you observe? Explain why this happens. What is the best way to calculate the value of $\\sum\\limits_{i=1}^{10000} \\dfrac{1}{i^2}$?"
   ]
  },
  {
   "cell_type": "code",
   "execution_count": 54,
   "id": "b7ad631e-8ea8-4972-a845-b45891e8270e",
   "metadata": {},
   "outputs": [
    {
     "name": "stdout",
     "output_type": "stream",
     "text": [
      "1.6448340718480652 \n",
      " 1.6448340718480596 \n",
      " 5.551115123125783e-15\n"
     ]
    }
   ],
   "source": [
    "a = 0\n",
    "for i in range(1, 10001):\n",
    "    a += 1 / i**2\n",
    "\n",
    "b = 0\n",
    "for i in range(10000, 0, -1):\n",
    "    b += 1 / i**2\n",
    "\n",
    "print(a, \"\\n\", b, \"\\n\", a - b)"
   ]
  },
  {
   "cell_type": "code",
   "execution_count": null,
   "id": "251ca9a0-3960-408c-b283-dccc53835cd9",
   "metadata": {},
   "outputs": [],
   "source": [
    "Разница между A и B возникает из-за накопления ошибок округления при разных порядках суммирования. Для минимизации ошибок рекомендуется суммировать от меньших чисел к большим или использовать алгоритмы с повышенной точностью."
   ]
  }
 ],
 "metadata": {
  "kernelspec": {
   "display_name": "Python [conda env:base] *",
   "language": "python",
   "name": "conda-base-py"
  },
  "language_info": {
   "codemirror_mode": {
    "name": "ipython",
    "version": 3
   },
   "file_extension": ".py",
   "mimetype": "text/x-python",
   "name": "python",
   "nbconvert_exporter": "python",
   "pygments_lexer": "ipython3",
   "version": "3.12.7"
  }
 },
 "nbformat": 4,
 "nbformat_minor": 5
}
